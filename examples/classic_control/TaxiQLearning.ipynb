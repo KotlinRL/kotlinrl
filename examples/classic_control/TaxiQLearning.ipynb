{
 "cells": [
  {
   "metadata": {},
   "cell_type": "markdown",
   "source": "## QLearning example of Taxi"
  },
  {
   "cell_type": "code",
   "metadata": {
    "collapsed": true,
    "ExecuteTime": {
     "end_time": "2025-09-18T00:25:16.482651Z",
     "start_time": "2025-09-18T00:24:32.973834Z"
    }
   },
   "source": [
    "USE {\n",
    "    repositories {\n",
    "        mavenCentral()\n",
    "        maven(\"https://central.sonatype.com/repository/maven-snapshots/\")\n",
    "    }\n",
    "    dependencies {\n",
    "        implementation(\"io.github.kotlinrl:integration:0.1.0-SNAPSHOT\")\n",
    "        implementation(\"io.github.kotlinrl:tabular:0.1.0-SNAPSHOT\")\n",
    "        implementation(\"io.github.kotlinrl:envs:0.1.0-SNAPSHOT\")\n",
    "        implementation(\"io.github.kotlinrl:rendering:0.1.0-SNAPSHOT\")\n",
    "    }\n",
    "}"
   ],
   "outputs": [],
   "execution_count": 1
  },
  {
   "metadata": {
    "ExecuteTime": {
     "end_time": "2025-09-18T00:25:16.510121Z",
     "start_time": "2025-09-18T00:25:16.489244Z"
    }
   },
   "cell_type": "code",
   "source": [
    "import io.github.kotlinrl.core.*\n",
    "import io.github.kotlinrl.core.RecordVideo\n",
    "import io.github.kotlinrl.core.api.*\n",
    "import io.github.kotlinrl.core.wrapper.*\n",
    "import io.github.kotlinrl.integration.gymnasium.*\n",
    "import io.github.kotlinrl.integration.gymnasium.GymnasiumEnvs.*\n",
    "import io.github.kotlinrl.rendering.*\n",
    "import io.github.kotlinrl.tabular.*\n",
    "import io.github.kotlinrl.tabular.td.classic.*\n",
    "import org.jetbrains.kotlinx.kandy.letsplot.export.*\n",
    "import org.jetbrains.kotlinx.multik.api.*\n",
    "import org.jetbrains.kotlinx.multik.api.io.*\n",
    "import org.jetbrains.kotlinx.multik.ndarray.data.*\n",
    "import java.io.*\n"
   ],
   "outputs": [],
   "execution_count": 2
  },
  {
   "metadata": {
    "ExecuteTime": {
     "end_time": "2025-09-18T00:25:16.551117Z",
     "start_time": "2025-09-18T00:25:16.513705Z"
    }
   },
   "cell_type": "code",
   "source": [
    "val maxStepsPerEpisode = 205\n",
    "val trainingEpisodes = 5_000\n",
    "val testEpisodes = 50\n",
    "val initialEpsilon = 0.3\n",
    "val epsilonDecayRate = 0.000056\n",
    "val minEpsilon = 0.0\n",
    "val alpha = 0.5\n",
    "val gamma = 0.99\n",
    "val fileName = \"TaxiQLearning.npy\"\n"
   ],
   "outputs": [],
   "execution_count": 3
  },
  {
   "metadata": {
    "ExecuteTime": {
     "end_time": "2025-09-18T00:25:17.096516Z",
     "start_time": "2025-09-18T00:25:16.555085Z"
    }
   },
   "cell_type": "code",
   "source": [
    "val env = gymnasium.make<CliffWalkingEnv>(Taxi_v3, render = true)\n",
    "\n",
    "var trainingQtable: QTable = mk.d2array(500, 6) { 0.0 }\n",
    "\n",
    "val (epsilonSchedule, epsilonDecrement) = ParameterSchedule.linearDecay(\n",
    "    initialValue = initialEpsilon,\n",
    "    minValue = minEpsilon,\n",
    "    decayRate = epsilonDecayRate,\n",
    "    callback = { episode, parameter ->\n",
    "        if (episode % 100 == 0) {\n",
    "            println(\"Episode: $episode, Epsilon: $parameter\")\n",
    "        }\n",
    "    }\n",
    ")\n"
   ],
   "outputs": [
    {
     "name": "stdout",
     "output_type": "stream",
     "text": [
      "2025-09-18T00:25:16.782957Z Execution of code 'val env = gymnasium....' ERROR Log4j2 could not find a logging implementation. Please add log4j-core to the classpath. Using SimpleLogger to log to the console...\n"
     ]
    }
   ],
   "execution_count": 4
  },
  {
   "metadata": {
    "ExecuteTime": {
     "end_time": "2025-09-18T00:25:31.483457Z",
     "start_time": "2025-09-18T00:25:17.102300Z"
    }
   },
   "cell_type": "code",
   "source": [
    "val trainer = episodicTrainer(\n",
    "    env = env,\n",
    "    agent = learningAgent(\n",
    "        id = \"training\",\n",
    "        algorithm = QLearning(\n",
    "            Q = trainingQtable,\n",
    "            epsilon = epsilonSchedule,\n",
    "            alpha = ParameterSchedule.constant(alpha),\n",
    "            gamma = gamma,\n",
    "        )\n",
    "    ),\n",
    "    maxStepsPerEpisode = maxStepsPerEpisode,\n",
    "    successfulTermination = { it.done },\n",
    "    callbacks = listOf(\n",
    "        printEpisodeStart(100),\n",
    "        onEpisodeEnd { epsilonDecrement() }\n",
    "    )\n",
    ")\n",
    "println(\"Starting training\")\n",
    "val training = trainer.train(maxEpisodes(trainingEpisodes))\n",
    "mk.writeNPY(fileName, trainingQtable)\n"
   ],
   "outputs": [
    {
     "name": "stdout",
     "output_type": "stream",
     "text": [
      "Starting training\n",
      "Episode 1 truncated=true\n",
      "Episode 2 truncated=true\n",
      "Episode 3 truncated=true\n",
      "Episode 5 truncated=true\n",
      "Episode 6 truncated=true\n",
      "Episode 7 truncated=true\n",
      "Episode 8 truncated=true\n",
      "Episode 9 truncated=true\n",
      "Episode 10 truncated=true\n",
      "Episode 11 truncated=true\n",
      "Episode 12 truncated=true\n",
      "Episode 14 truncated=true\n",
      "Episode 15 truncated=true\n",
      "Episode 16 truncated=true\n",
      "Episode 17 truncated=true\n",
      "Episode 18 truncated=true\n",
      "Episode 19 truncated=true\n",
      "Episode 20 truncated=true\n",
      "Episode 21 truncated=true\n",
      "Episode 22 truncated=true\n",
      "Episode 25 truncated=true\n",
      "Episode 26 truncated=true\n",
      "Episode 27 truncated=true\n",
      "Episode 28 truncated=true\n",
      "Episode 29 truncated=true\n",
      "Episode 30 truncated=true\n",
      "Episode 31 truncated=true\n",
      "Episode 32 truncated=true\n",
      "Episode 33 truncated=true\n",
      "Episode 34 truncated=true\n",
      "Episode 36 truncated=true\n",
      "Episode 37 truncated=true\n",
      "Episode 38 truncated=true\n",
      "Episode 40 truncated=true\n",
      "Episode 41 truncated=true\n",
      "Episode 45 truncated=true\n",
      "Episode 46 truncated=true\n",
      "Episode 47 truncated=true\n",
      "Episode 48 truncated=true\n",
      "Episode 50 truncated=true\n",
      "Episode 54 truncated=true\n",
      "Episode 56 truncated=true\n",
      "Episode 59 truncated=true\n",
      "Episode 62 truncated=true\n",
      "Episode 63 truncated=true\n",
      "Episode 64 truncated=true\n",
      "Episode 65 truncated=true\n",
      "Episode 67 truncated=true\n",
      "Episode 68 truncated=true\n",
      "Episode 70 truncated=true\n",
      "Episode 72 truncated=true\n",
      "Episode 78 truncated=true\n",
      "Episode 79 truncated=true\n",
      "Episode 87 truncated=true\n",
      "Episode 90 truncated=true\n",
      "Episode 94 truncated=true\n",
      "Episode 96 truncated=true\n",
      "Episode 97 truncated=true\n",
      "Starting episode 100\n",
      "Episode: 100, Epsilon: Parameter(current=0.29439999999999994, previous=0.29445599999999994, minValue=0.0)\n",
      "Episode 114 truncated=true\n",
      "Episode 118 truncated=true\n",
      "Episode 121 truncated=true\n",
      "Episode 176 truncated=true\n",
      "Episode 182 truncated=true\n",
      "Starting episode 200\n",
      "Episode: 200, Epsilon: Parameter(current=0.2887999999999999, previous=0.2888559999999999, minValue=0.0)\n",
      "Starting episode 300\n",
      "Episode: 300, Epsilon: Parameter(current=0.28319999999999984, previous=0.28325599999999984, minValue=0.0)\n",
      "Starting episode 400\n",
      "Episode: 400, Epsilon: Parameter(current=0.2775999999999998, previous=0.2776559999999998, minValue=0.0)\n",
      "Starting episode 500\n",
      "Episode: 500, Epsilon: Parameter(current=0.27199999999999974, previous=0.27205599999999974, minValue=0.0)\n",
      "Starting episode 600\n",
      "Episode: 600, Epsilon: Parameter(current=0.2663999999999997, previous=0.2664559999999997, minValue=0.0)\n",
      "Starting episode 700\n",
      "Episode: 700, Epsilon: Parameter(current=0.26079999999999964, previous=0.26085599999999964, minValue=0.0)\n",
      "Starting episode 800\n",
      "Episode: 800, Epsilon: Parameter(current=0.2551999999999996, previous=0.2552559999999996, minValue=0.0)\n",
      "Starting episode 900\n",
      "Episode: 900, Epsilon: Parameter(current=0.24959999999999954, previous=0.24965599999999954, minValue=0.0)\n",
      "Starting episode 1000\n",
      "Episode: 1000, Epsilon: Parameter(current=0.2439999999999995, previous=0.2440559999999995, minValue=0.0)\n",
      "Starting episode 1100\n",
      "Episode: 1100, Epsilon: Parameter(current=0.23839999999999945, previous=0.23845599999999945, minValue=0.0)\n",
      "Starting episode 1200\n",
      "Episode: 1200, Epsilon: Parameter(current=0.2327999999999994, previous=0.2328559999999994, minValue=0.0)\n",
      "Starting episode 1300\n",
      "Episode: 1300, Epsilon: Parameter(current=0.22719999999999935, previous=0.22725599999999935, minValue=0.0)\n",
      "Starting episode 1400\n",
      "Episode: 1400, Epsilon: Parameter(current=0.2215999999999993, previous=0.2216559999999993, minValue=0.0)\n",
      "Starting episode 1500\n",
      "Episode: 1500, Epsilon: Parameter(current=0.21599999999999925, previous=0.21605599999999925, minValue=0.0)\n",
      "Starting episode 1600\n",
      "Episode: 1600, Epsilon: Parameter(current=0.2103999999999992, previous=0.2104559999999992, minValue=0.0)\n",
      "Starting episode 1700\n",
      "Episode: 1700, Epsilon: Parameter(current=0.20479999999999915, previous=0.20485599999999915, minValue=0.0)\n",
      "Starting episode 1800\n",
      "Episode: 1800, Epsilon: Parameter(current=0.1991999999999991, previous=0.1992559999999991, minValue=0.0)\n",
      "Starting episode 1900\n",
      "Episode: 1900, Epsilon: Parameter(current=0.19359999999999905, previous=0.19365599999999905, minValue=0.0)\n",
      "Starting episode 2000\n",
      "Episode: 2000, Epsilon: Parameter(current=0.187999999999999, previous=0.188055999999999, minValue=0.0)\n",
      "Starting episode 2100\n",
      "Episode: 2100, Epsilon: Parameter(current=0.18239999999999895, previous=0.18245599999999895, minValue=0.0)\n",
      "Starting episode 2200\n",
      "Episode: 2200, Epsilon: Parameter(current=0.1767999999999989, previous=0.1768559999999989, minValue=0.0)\n",
      "Starting episode 2300\n",
      "Episode: 2300, Epsilon: Parameter(current=0.17119999999999885, previous=0.17125599999999885, minValue=0.0)\n",
      "Starting episode 2400\n",
      "Episode: 2400, Epsilon: Parameter(current=0.1655999999999988, previous=0.1656559999999988, minValue=0.0)\n",
      "Starting episode 2500\n",
      "Episode: 2500, Epsilon: Parameter(current=0.15999999999999875, previous=0.16005599999999875, minValue=0.0)\n",
      "Starting episode 2600\n",
      "Episode: 2600, Epsilon: Parameter(current=0.1543999999999987, previous=0.1544559999999987, minValue=0.0)\n",
      "Starting episode 2700\n",
      "Episode: 2700, Epsilon: Parameter(current=0.14879999999999866, previous=0.14885599999999866, minValue=0.0)\n",
      "Starting episode 2800\n",
      "Episode: 2800, Epsilon: Parameter(current=0.1431999999999986, previous=0.1432559999999986, minValue=0.0)\n",
      "Starting episode 2900\n",
      "Episode: 2900, Epsilon: Parameter(current=0.13759999999999856, previous=0.13765599999999856, minValue=0.0)\n",
      "Starting episode 3000\n",
      "Episode: 3000, Epsilon: Parameter(current=0.1319999999999985, previous=0.1320559999999985, minValue=0.0)\n",
      "Starting episode 3100\n",
      "Episode: 3100, Epsilon: Parameter(current=0.12639999999999846, previous=0.12645599999999846, minValue=0.0)\n",
      "Starting episode 3200\n",
      "Episode: 3200, Epsilon: Parameter(current=0.12079999999999841, previous=0.12085599999999841, minValue=0.0)\n",
      "Starting episode 3300\n",
      "Episode: 3300, Epsilon: Parameter(current=0.11519999999999836, previous=0.11525599999999836, minValue=0.0)\n",
      "Starting episode 3400\n",
      "Episode: 3400, Epsilon: Parameter(current=0.10959999999999831, previous=0.10965599999999831, minValue=0.0)\n",
      "Starting episode 3500\n",
      "Episode: 3500, Epsilon: Parameter(current=0.10399999999999826, previous=0.10405599999999826, minValue=0.0)\n",
      "Starting episode 3600\n",
      "Episode: 3600, Epsilon: Parameter(current=0.09839999999999821, previous=0.09845599999999821, minValue=0.0)\n",
      "Starting episode 3700\n",
      "Episode: 3700, Epsilon: Parameter(current=0.09279999999999816, previous=0.09285599999999816, minValue=0.0)\n",
      "Starting episode 3800\n",
      "Episode: 3800, Epsilon: Parameter(current=0.08719999999999811, previous=0.08725599999999811, minValue=0.0)\n",
      "Starting episode 3900\n",
      "Episode: 3900, Epsilon: Parameter(current=0.08159999999999806, previous=0.08165599999999806, minValue=0.0)\n",
      "Starting episode 4000\n",
      "Episode: 4000, Epsilon: Parameter(current=0.07599999999999801, previous=0.07605599999999801, minValue=0.0)\n",
      "Starting episode 4100\n",
      "Episode: 4100, Epsilon: Parameter(current=0.07039999999999796, previous=0.07045599999999796, minValue=0.0)\n",
      "Starting episode 4200\n",
      "Episode: 4200, Epsilon: Parameter(current=0.06479999999999791, previous=0.06485599999999792, minValue=0.0)\n",
      "Starting episode 4300\n",
      "Episode: 4300, Epsilon: Parameter(current=0.059199999999997865, previous=0.059255999999997866, minValue=0.0)\n",
      "Starting episode 4400\n",
      "Episode: 4400, Epsilon: Parameter(current=0.053599999999997816, previous=0.05365599999999782, minValue=0.0)\n",
      "Starting episode 4500\n",
      "Episode: 4500, Epsilon: Parameter(current=0.04799999999999777, previous=0.04805599999999777, minValue=0.0)\n",
      "Starting episode 4600\n",
      "Episode: 4600, Epsilon: Parameter(current=0.04239999999999772, previous=0.04245599999999772, minValue=0.0)\n",
      "Starting episode 4700\n",
      "Episode: 4700, Epsilon: Parameter(current=0.03679999999999767, previous=0.03685599999999767, minValue=0.0)\n",
      "Starting episode 4800\n",
      "Episode: 4800, Epsilon: Parameter(current=0.03119999999999762, previous=0.03125599999999762, minValue=0.0)\n",
      "Starting episode 4900\n",
      "Episode: 4900, Epsilon: Parameter(current=0.02559999999999757, previous=0.02565599999999757, minValue=0.0)\n",
      "Starting episode 5000\n",
      "Episode: 5000, Epsilon: Parameter(current=0.01999999999999752, previous=0.02005599999999752, minValue=0.0)\n",
      "Max episodes reached: 5000\n"
     ]
    }
   ],
   "execution_count": 5
  },
  {
   "metadata": {
    "ExecuteTime": {
     "end_time": "2025-09-18T00:25:31.522751Z",
     "start_time": "2025-09-18T00:25:31.487220Z"
    }
   },
   "cell_type": "code",
   "source": "val testingQtable = mk.readNPY<Double, D2>(fileName).asD2Array()\n",
   "outputs": [],
   "execution_count": 6
  },
  {
   "metadata": {
    "ExecuteTime": {
     "end_time": "2025-09-18T00:25:32.750520Z",
     "start_time": "2025-09-18T00:25:31.526448Z"
    }
   },
   "cell_type": "code",
   "source": [
    "val recordEnv = RecordVideo(env = env, folder = \"videos/taxi_q_learning\", testEpisodes / 3)\n",
    "val tester = episodicTrainer(\n",
    "    env = recordEnv,\n",
    "    agent = policyAgent(\n",
    "        id = \"testing\",\n",
    "        policy = testingQtable.greedy()\n",
    "    ),\n",
    "    maxStepsPerEpisode = maxStepsPerEpisode,\n",
    "    successfulTermination = { it.done },\n",
    "    callbacks = listOf(\n",
    "        printEpisodeStart(10)\n",
    "    )\n",
    ")\n",
    "println(\"Starting testing\")\n",
    "val test = tester.train(maxEpisodes(testEpisodes))\n"
   ],
   "outputs": [
    {
     "name": "stdout",
     "output_type": "stream",
     "text": [
      "Starting testing\n",
      "Starting episode 10\n",
      "Starting episode 20\n",
      "Starting episode 30\n",
      "Starting episode 40\n",
      "Starting episode 50\n",
      "Max episodes reached: 50\n"
     ]
    }
   ],
   "execution_count": 7
  },
  {
   "metadata": {
    "ExecuteTime": {
     "end_time": "2025-09-18T00:25:32.903571Z",
     "start_time": "2025-09-18T00:25:32.755420Z"
    }
   },
   "cell_type": "code",
   "source": [
    "println(\"Training average reward: ${training.totalAverageReward}\")\n",
    "println(\"Test average reward: ${test.totalAverageReward}\")\n",
    "\n",
    "displayVideos(recordEnv.folder)\n"
   ],
   "outputs": [
    {
     "name": "stdout",
     "output_type": "stream",
     "text": [
      "Training average reward: -11.8408\n",
      "Test average reward: 8.24\n"
     ]
    }
   ],
   "execution_count": 8
  }
 ],
 "metadata": {
  "kernelspec": {
   "display_name": "Kotlin",
   "language": "kotlin",
   "name": "kotlin"
  },
  "language_info": {
   "name": "kotlin",
   "version": "2.2.20-Beta2",
   "mimetype": "text/x-kotlin",
   "file_extension": ".kt",
   "pygments_lexer": "kotlin",
   "codemirror_mode": "text/x-kotlin",
   "nbconvert_exporter": ""
  }
 },
 "nbformat": 4,
 "nbformat_minor": 0
}
