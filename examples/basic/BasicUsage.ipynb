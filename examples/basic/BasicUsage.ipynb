{
 "cells": [
  {
   "metadata": {
    "ExecuteTime": {
     "end_time": "2025-09-13T23:26:53.442146Z",
     "start_time": "2025-09-13T23:26:50.340187Z"
    }
   },
   "cell_type": "code",
   "source": [
    "USE {\n",
    "    repositories {\n",
    "        mavenCentral()\n",
    "        maven(\"https://central.sonatype.com/repository/maven-snapshots/\")\n",
    "    }\n",
    "    dependencies {\n",
    "        implementation(\"io.github.kotlinrl:integration:0.1.0-SNAPSHOT\")\n",
    "        implementation(\"io.github.kotlinrl:rendering:0.1.0-SNAPSHOT\")\n",
    "    }\n",
    "}"
   ],
   "outputs": [],
   "execution_count": 4
  },
  {
   "metadata": {
    "ExecuteTime": {
     "end_time": "2025-09-13T23:26:53.460952Z",
     "start_time": "2025-09-13T23:26:53.446181Z"
    }
   },
   "cell_type": "code",
   "source": [
    "import io.github.kotlinrl.core.*\n",
    "import io.github.kotlinrl.rendering.*\n",
    "import io.github.kotlinrl.integration.gymnasium.*\n",
    "import io.github.kotlinrl.integration.gymnasium.GymnasiumEnvs.*"
   ],
   "outputs": [],
   "execution_count": 5
  },
  {
   "metadata": {},
   "cell_type": "markdown",
   "source": [
    "### Basic Usage in Python: dynamically typed data\n",
    "From the [Gymnasium documentation](https://gymnasium.farama.org/introduction/basic_usage/)\n",
    "```python\n",
    "import gymnasium\n",
    "\n",
    "env = gymnasium.make(\"CartPole-v1\", seed=123, render_mode=\"rgb_array\")\n",
    "state, _ = env.reset()\n",
    "print(f\"Starting state: {state}\")\n",
    "\n",
    "episode_over = False\n",
    "total_reward = 0\n",
    "\n",
    "while not episode_over:\n",
    "    action = env.action_space.sample()\n",
    "    state, reward, terminated, truncated, _ = env.step(action)\n",
    "    total_reward += reward\n",
    "    episode_over = terminated or truncated\n",
    "    print(f\"Observation: {state}, Reward: {reward}\")\n",
    "\n",
    "print(f\"Episode finished! Total reward: {total_reward}\")\n",
    "env.close()\n",
    "```\n"
   ]
  },
  {
   "metadata": {},
   "cell_type": "markdown",
   "source": "### Basic Usage in Kotlin: statically typed data"
  },
  {
   "metadata": {
    "ExecuteTime": {
     "end_time": "2025-09-13T23:26:54.606412Z",
     "start_time": "2025-09-13T23:26:53.463468Z"
    }
   },
   "cell_type": "code",
   "source": [
    "val env = RecordVideo(gymnasium.make<CartPoleEnv>(CartPole_v1, seed=123, render=true), folder = \"videos/cart_pole\")\n",
    "var (state, _) = env.reset()\n",
    "println(\"Starting state: $state\")\n",
    "\n",
    "var episodeOver = false\n",
    "var totalReward = 0.0\n",
    "\n",
    "while (!episodeOver) {\n",
    "    val action = env.actionSpace.sample()\n",
    "    var (state, reward, terminated, truncated, _) = env.step(action)\n",
    "    totalReward += reward\n",
    "    episodeOver = terminated || truncated\n",
    "\n",
    "    println(\"State: $state, Reward: $reward\")\n",
    "}\n",
    "println(\"Episode finished!: Total reward: $totalReward\")\n",
    "env.close()\n",
    "displayVideo(\n",
    "    episode = 1,\n",
    "    folder = env.folder\n",
    ")"
   ],
   "outputs": [
    {
     "name": "stdout",
     "output_type": "stream",
     "text": [
      "Starting state: [-0.042445913, -0.02525717, 0.04043742, -0.025815645]\n",
      "State: [-0.04295106, -0.220935, 0.03992111, 0.2793465], Reward: 1.0\n",
      "State: [-0.047369756, -0.41660303, 0.04550804, 0.5843484], Reward: 1.0\n",
      "State: [-0.05570182, -0.2221471, 0.057195004, 0.30634126], Reward: 1.0\n",
      "State: [-0.06014476, -0.41803548, 0.06332183, 0.6164995], Reward: 1.0\n",
      "State: [-0.068505466, -0.61398226, 0.07565182, 0.9284348], Reward: 1.0\n",
      "State: [-0.08078512, -0.8100395, 0.09422052, 1.2439], Reward: 1.0\n",
      "State: [-0.09698591, -0.6162443, 0.119098514, 0.9821564], Reward: 1.0\n",
      "State: [-0.10931079, -0.8127434, 0.13874164, 1.3097494], Reward: 1.0\n",
      "State: [-0.12556566, -0.6196246, 0.16493663, 1.063514], Reward: 1.0\n",
      "State: [-0.13795815, -0.81649977, 0.1862069, 1.4030908], Reward: 1.0\n",
      "State: [-0.15428814, -1.0133816, 0.21426873, 1.7477374], Reward: 1.0\n",
      "Episode finished!: Total reward: 11.0\n"
     ]
    }
   ],
   "execution_count": 6
  },
  {
   "metadata": {
    "ExecuteTime": {
     "end_time": "2025-09-13T23:26:54.613369Z",
     "start_time": "2025-09-13T23:26:54.611071Z"
    }
   },
   "cell_type": "code",
   "source": "",
   "outputs": [],
   "execution_count": null
  }
 ],
 "metadata": {
  "kernelspec": {
   "display_name": "Kotlin",
   "language": "kotlin",
   "name": "kotlin"
  },
  "language_info": {
   "name": "kotlin",
   "version": "1.9.23",
   "mimetype": "text/x-kotlin",
   "file_extension": ".kt",
   "pygments_lexer": "kotlin",
   "codemirror_mode": "text/x-kotlin",
   "nbconvert_exporter": ""
  }
 },
 "nbformat": 4,
 "nbformat_minor": 0
}
