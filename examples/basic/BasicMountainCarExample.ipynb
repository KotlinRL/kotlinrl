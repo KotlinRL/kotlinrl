{
 "cells": [
  {
   "metadata": {
    "ExecuteTime": {
     "end_time": "2025-09-13T23:18:30.419979Z",
     "start_time": "2025-09-13T23:18:13.075913Z"
    }
   },
   "cell_type": "code",
   "source": [
    "USE {\n",
    "    repositories {\n",
    "        mavenCentral()\n",
    "        maven(\"https://central.sonatype.com/repository/maven-snapshots/\")\n",
    "    }\n",
    "    dependencies {\n",
    "        implementation(\"io.github.kotlinrl:integration:0.1.0-SNAPSHOT\")\n",
    "        implementation(\"io.github.kotlinrl:rendering:0.1.0-SNAPSHOT\")\n",
    "    }\n",
    "}"
   ],
   "outputs": [],
   "execution_count": 1
  },
  {
   "metadata": {
    "ExecuteTime": {
     "end_time": "2025-09-13T23:18:30.437917Z",
     "start_time": "2025-09-13T23:18:30.424615Z"
    }
   },
   "cell_type": "code",
   "source": [
    "import io.github.kotlinrl.core.*\n",
    "import io.github.kotlinrl.rendering.*\n",
    "import io.github.kotlinrl.integration.gymnasium.*\n",
    "import io.github.kotlinrl.integration.gymnasium.GymnasiumEnvs.*"
   ],
   "outputs": [],
   "execution_count": 2
  },
  {
   "metadata": {
    "ExecuteTime": {
     "end_time": "2025-09-13T23:18:35.318173Z",
     "start_time": "2025-09-13T23:18:30.440250Z"
    }
   },
   "cell_type": "code",
   "source": [
    "val env = RecordVideo(gymnasium.make<MountainCarEnv>(MountainCar_v0, seed=123, render=true), folder = \"videos/mountain_car\")\n",
    "var (state, _) = env.reset()\n",
    "\n",
    "var episodeOver = false\n",
    "var totalReward = 0.0\n",
    "\n",
    "while (!episodeOver) {\n",
    "    val action = env.actionSpace.sample()\n",
    "    var (_, reward, terminated, truncated, _) = env.step(action)\n",
    "    totalReward += reward\n",
    "    episodeOver = terminated || truncated\n",
    "}\n",
    "println(\"Episode finished!: Total reward: $totalReward\")\n",
    "env.close()\n",
    "displayVideo(\n",
    "    episode = 1,\n",
    "    folder = env.folder\n",
    ")"
   ],
   "outputs": [
    {
     "name": "stdout",
     "output_type": "stream",
     "text": [
      "2025-09-13T23:18:30.676554Z Execution of code 'val env = RecordVide...' ERROR Log4j2 could not find a logging implementation. Please add log4j-core to the classpath. Using SimpleLogger to log to the console...\n",
      "Episode finished!: Total reward: -200.0\n"
     ]
    }
   ],
   "execution_count": 3
  },
  {
   "metadata": {
    "ExecuteTime": {
     "end_time": "2025-09-13T23:18:35.322978Z",
     "start_time": "2025-09-13T23:18:35.321462Z"
    }
   },
   "cell_type": "code",
   "source": "",
   "outputs": [],
   "execution_count": null
  }
 ],
 "metadata": {
  "kernelspec": {
   "display_name": "Kotlin",
   "language": "kotlin",
   "name": "kotlin"
  },
  "language_info": {
   "name": "kotlin",
   "version": "1.9.23",
   "mimetype": "text/x-kotlin",
   "file_extension": ".kt",
   "pygments_lexer": "kotlin",
   "codemirror_mode": "text/x-kotlin",
   "nbconvert_exporter": ""
  }
 },
 "nbformat": 4,
 "nbformat_minor": 0
}
